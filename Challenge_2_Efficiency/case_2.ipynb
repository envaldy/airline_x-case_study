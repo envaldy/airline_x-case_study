{
 "cells": [
  {
   "cell_type": "code",
   "execution_count": 602,
   "metadata": {},
   "outputs": [],
   "source": [
    "import pandas as pd\n",
    "import numpy as np\n",
    "import seaborn as sns\n",
    "import matplotlib.pyplot as plt"
   ]
  },
  {
   "cell_type": "code",
   "execution_count": 603,
   "metadata": {},
   "outputs": [
    {
     "data": {
      "text/html": [
       "<div>\n",
       "<style scoped>\n",
       "    .dataframe tbody tr th:only-of-type {\n",
       "        vertical-align: middle;\n",
       "    }\n",
       "\n",
       "    .dataframe tbody tr th {\n",
       "        vertical-align: top;\n",
       "    }\n",
       "\n",
       "    .dataframe thead th {\n",
       "        text-align: right;\n",
       "    }\n",
       "</style>\n",
       "<table border=\"1\" class=\"dataframe\">\n",
       "  <thead>\n",
       "    <tr style=\"text-align: right;\">\n",
       "      <th></th>\n",
       "      <th>YEAR</th>\n",
       "      <th>MONTH_NUM</th>\n",
       "      <th>MONTH_MON</th>\n",
       "      <th>ENTRY_DATE</th>\n",
       "      <th>ENTITY_NAME</th>\n",
       "      <th>ENTITY_TYPE</th>\n",
       "      <th>TYPE_MODEL</th>\n",
       "      <th>DIST_FLOWN_KM_1</th>\n",
       "      <th>DIST_DIRECT_KM</th>\n",
       "      <th>DIST_ACHIEVED_KM_1</th>\n",
       "    </tr>\n",
       "  </thead>\n",
       "  <tbody>\n",
       "    <tr>\n",
       "      <th>0</th>\n",
       "      <td>2024</td>\n",
       "      <td>1</td>\n",
       "      <td>JAN</td>\n",
       "      <td>2024-01-01</td>\n",
       "      <td>Albania</td>\n",
       "      <td>State (FIR)</td>\n",
       "      <td>CPF</td>\n",
       "      <td>67887</td>\n",
       "      <td>67582.94</td>\n",
       "      <td>66205.16</td>\n",
       "    </tr>\n",
       "    <tr>\n",
       "      <th>1</th>\n",
       "      <td>2024</td>\n",
       "      <td>1</td>\n",
       "      <td>JAN</td>\n",
       "      <td>2024-01-01</td>\n",
       "      <td>Albania</td>\n",
       "      <td>State (FIR)</td>\n",
       "      <td>FTFM</td>\n",
       "      <td>70664</td>\n",
       "      <td>70233.76</td>\n",
       "      <td>67388.79</td>\n",
       "    </tr>\n",
       "    <tr>\n",
       "      <th>2</th>\n",
       "      <td>2024</td>\n",
       "      <td>1</td>\n",
       "      <td>JAN</td>\n",
       "      <td>2024-01-01</td>\n",
       "      <td>Albania</td>\n",
       "      <td>State (FIR)</td>\n",
       "      <td>SCR</td>\n",
       "      <td>68405</td>\n",
       "      <td>68024.77</td>\n",
       "      <td>65306.40</td>\n",
       "    </tr>\n",
       "    <tr>\n",
       "      <th>3</th>\n",
       "      <td>2024</td>\n",
       "      <td>1</td>\n",
       "      <td>JAN</td>\n",
       "      <td>2024-01-01</td>\n",
       "      <td>Armenia</td>\n",
       "      <td>State (FIR)</td>\n",
       "      <td>CPF</td>\n",
       "      <td>16858</td>\n",
       "      <td>16617.05</td>\n",
       "      <td>15970.69</td>\n",
       "    </tr>\n",
       "    <tr>\n",
       "      <th>4</th>\n",
       "      <td>2024</td>\n",
       "      <td>1</td>\n",
       "      <td>JAN</td>\n",
       "      <td>2024-01-01</td>\n",
       "      <td>Armenia</td>\n",
       "      <td>State (FIR)</td>\n",
       "      <td>FTFM</td>\n",
       "      <td>17603</td>\n",
       "      <td>17321.40</td>\n",
       "      <td>16407.37</td>\n",
       "    </tr>\n",
       "  </tbody>\n",
       "</table>\n",
       "</div>"
      ],
      "text/plain": [
       "   YEAR  MONTH_NUM MONTH_MON  ENTRY_DATE ENTITY_NAME  ENTITY_TYPE TYPE_MODEL  \\\n",
       "0  2024          1       JAN  2024-01-01     Albania  State (FIR)        CPF   \n",
       "1  2024          1       JAN  2024-01-01     Albania  State (FIR)       FTFM   \n",
       "2  2024          1       JAN  2024-01-01     Albania  State (FIR)        SCR   \n",
       "3  2024          1       JAN  2024-01-01     Armenia  State (FIR)        CPF   \n",
       "4  2024          1       JAN  2024-01-01     Armenia  State (FIR)       FTFM   \n",
       "\n",
       "   DIST_FLOWN_KM_1  DIST_DIRECT_KM  DIST_ACHIEVED_KM_1  \n",
       "0            67887        67582.94            66205.16  \n",
       "1            70664        70233.76            67388.79  \n",
       "2            68405        68024.77            65306.40  \n",
       "3            16858        16617.05            15970.69  \n",
       "4            17603        17321.40            16407.37  "
      ]
     },
     "execution_count": 603,
     "metadata": {},
     "output_type": "execute_result"
    }
   ],
   "source": [
    "df = pd.read_csv(\"Euroflight_2024.csv\")\n",
    "\n",
    "if 'Unnamed: 0' in df.columns:\n",
    "    df.drop(\"Unnamed: 0\", axis=1, inplace=True)\n",
    "else:\n",
    "    pass\n",
    "\n",
    "df.head()"
   ]
  },
  {
   "cell_type": "code",
   "execution_count": 604,
   "metadata": {},
   "outputs": [],
   "source": [
    "df_2024 = df.copy()"
   ]
  },
  {
   "cell_type": "code",
   "execution_count": 605,
   "metadata": {},
   "outputs": [],
   "source": [
    "df_2024[\"PLANNED_KM\"] = df_2024[\"DIST_FLOWN_KM_1\"]/1000\n",
    "df_2024[\"ACTUAL_KM\"] = df_2024[\"DIST_ACHIEVED_KM_1\"]/1000"
   ]
  },
  {
   "cell_type": "code",
   "execution_count": 606,
   "metadata": {},
   "outputs": [
    {
     "data": {
      "text/plain": [
       "Area (FIR)    1638\n",
       "Name: ENTITY_TYPE, dtype: int64"
      ]
     },
     "execution_count": 606,
     "metadata": {},
     "output_type": "execute_result"
    }
   ],
   "source": [
    "df_check = df_2024[df_2024['ACTUAL_KM']>10000]\n",
    "df_check['ENTITY_TYPE'].value_counts()"
   ]
  },
  {
   "cell_type": "code",
   "execution_count": 607,
   "metadata": {},
   "outputs": [],
   "source": [
    "df_2024 = df_2024[df_2024['ENTITY_TYPE']!=\"Area (FIR)\"]"
   ]
  },
  {
   "cell_type": "code",
   "execution_count": 608,
   "metadata": {},
   "outputs": [
    {
     "data": {
      "text/plain": [
       "State (FIR)    21840\n",
       "FAB (FIR)       6006\n",
       "Name: ENTITY_TYPE, dtype: int64"
      ]
     },
     "execution_count": 608,
     "metadata": {},
     "output_type": "execute_result"
    }
   ],
   "source": [
    "df_2024['ENTITY_TYPE'].value_counts()"
   ]
  },
  {
   "cell_type": "code",
   "execution_count": 609,
   "metadata": {},
   "outputs": [],
   "source": [
    "df_2024[\"EFFICIENCY\"] = df_2024[\"PLANNED_KM\"]- df_2024[\"ACTUAL_KM\"]"
   ]
  },
  {
   "cell_type": "code",
   "execution_count": 610,
   "metadata": {},
   "outputs": [
    {
     "data": {
      "text/html": [
       "<div>\n",
       "<style scoped>\n",
       "    .dataframe tbody tr th:only-of-type {\n",
       "        vertical-align: middle;\n",
       "    }\n",
       "\n",
       "    .dataframe tbody tr th {\n",
       "        vertical-align: top;\n",
       "    }\n",
       "\n",
       "    .dataframe thead th {\n",
       "        text-align: right;\n",
       "    }\n",
       "</style>\n",
       "<table border=\"1\" class=\"dataframe\">\n",
       "  <thead>\n",
       "    <tr style=\"text-align: right;\">\n",
       "      <th></th>\n",
       "      <th>TYPE_MODEL</th>\n",
       "      <th>EFFICIENCY</th>\n",
       "    </tr>\n",
       "  </thead>\n",
       "  <tbody>\n",
       "    <tr>\n",
       "      <th>0</th>\n",
       "      <td>CPF</td>\n",
       "      <td>13.03213</td>\n",
       "    </tr>\n",
       "    <tr>\n",
       "      <th>1</th>\n",
       "      <td>FTFM</td>\n",
       "      <td>18.45369</td>\n",
       "    </tr>\n",
       "    <tr>\n",
       "      <th>2</th>\n",
       "      <td>SCR</td>\n",
       "      <td>16.86733</td>\n",
       "    </tr>\n",
       "  </tbody>\n",
       "</table>\n",
       "</div>"
      ],
      "text/plain": [
       "  TYPE_MODEL  EFFICIENCY\n",
       "0        CPF    13.03213\n",
       "1       FTFM    18.45369\n",
       "2        SCR    16.86733"
      ]
     },
     "execution_count": 610,
     "metadata": {},
     "output_type": "execute_result"
    }
   ],
   "source": [
    "horizontal_efficacy_24 = df_2024[['TYPE_MODEL','EFFICIENCY']].groupby('TYPE_MODEL').median().reset_index()\n",
    "horizontal_efficacy_24"
   ]
  },
  {
   "cell_type": "markdown",
   "metadata": {},
   "source": [
    "---"
   ]
  },
  {
   "cell_type": "code",
   "execution_count": 611,
   "metadata": {},
   "outputs": [
    {
     "data": {
      "image/png": "[encoded data removed]",
      "text/plain": [
       "<Figure size 1000x800 with 1 Axes>"
      ]
     },
     "metadata": {},
     "output_type": "display_data"
    }
   ],
   "source": [
    "plt.figure(figsize=(10, 8))\n",
    "sns.barplot(x='TYPE_MODEL', y='EFFICIENCY', data=horizontal_efficacy_24,palette=\"viridis\")\n",
    "plt.title('Horizontal Efficiency Median')\n",
    "plt.xlabel('Method')\n",
    "plt.ylabel('Median(km)');"
   ]
  },
  {
   "cell_type": "markdown",
   "metadata": {},
   "source": [
    "---\n",
    "---"
   ]
  },
  {
   "cell_type": "code",
   "execution_count": 612,
   "metadata": {},
   "outputs": [
    {
     "data": {
      "text/html": [
       "<div>\n",
       "<style scoped>\n",
       "    .dataframe tbody tr th:only-of-type {\n",
       "        vertical-align: middle;\n",
       "    }\n",
       "\n",
       "    .dataframe tbody tr th {\n",
       "        vertical-align: top;\n",
       "    }\n",
       "\n",
       "    .dataframe thead th {\n",
       "        text-align: right;\n",
       "    }\n",
       "</style>\n",
       "<table border=\"1\" class=\"dataframe\">\n",
       "  <thead>\n",
       "    <tr style=\"text-align: right;\">\n",
       "      <th></th>\n",
       "      <th>YEAR</th>\n",
       "      <th>MONTH_NUM</th>\n",
       "      <th>MONTH_MON</th>\n",
       "      <th>ENTRY_DATE</th>\n",
       "      <th>ENTITY_NAME</th>\n",
       "      <th>ENTITY_TYPE</th>\n",
       "      <th>TYPE_MODEL</th>\n",
       "      <th>DIST_FLOWN_KM_1</th>\n",
       "      <th>DIST_DIRECT_KM</th>\n",
       "      <th>DIST_ACHIEVED_KM_1</th>\n",
       "    </tr>\n",
       "  </thead>\n",
       "  <tbody>\n",
       "    <tr>\n",
       "      <th>0</th>\n",
       "      <td>2023</td>\n",
       "      <td>1</td>\n",
       "      <td>JAN</td>\n",
       "      <td>2023-01-01</td>\n",
       "      <td>Albania</td>\n",
       "      <td>State (FIR)</td>\n",
       "      <td>FTFM</td>\n",
       "      <td>81346</td>\n",
       "      <td>81281.09</td>\n",
       "      <td>77641.27</td>\n",
       "    </tr>\n",
       "    <tr>\n",
       "      <th>1</th>\n",
       "      <td>2023</td>\n",
       "      <td>1</td>\n",
       "      <td>JAN</td>\n",
       "      <td>2023-01-01</td>\n",
       "      <td>Albania</td>\n",
       "      <td>State (FIR)</td>\n",
       "      <td>CPF</td>\n",
       "      <td>79583</td>\n",
       "      <td>79256.24</td>\n",
       "      <td>77760.60</td>\n",
       "    </tr>\n",
       "    <tr>\n",
       "      <th>2</th>\n",
       "      <td>2023</td>\n",
       "      <td>1</td>\n",
       "      <td>JAN</td>\n",
       "      <td>2023-01-01</td>\n",
       "      <td>Albania</td>\n",
       "      <td>State (FIR)</td>\n",
       "      <td>SCR</td>\n",
       "      <td>74119</td>\n",
       "      <td>74062.76</td>\n",
       "      <td>70587.17</td>\n",
       "    </tr>\n",
       "    <tr>\n",
       "      <th>3</th>\n",
       "      <td>2023</td>\n",
       "      <td>1</td>\n",
       "      <td>JAN</td>\n",
       "      <td>2023-01-01</td>\n",
       "      <td>Armenia</td>\n",
       "      <td>State (FIR)</td>\n",
       "      <td>CPF</td>\n",
       "      <td>20660</td>\n",
       "      <td>20459.14</td>\n",
       "      <td>19374.38</td>\n",
       "    </tr>\n",
       "    <tr>\n",
       "      <th>4</th>\n",
       "      <td>2023</td>\n",
       "      <td>1</td>\n",
       "      <td>JAN</td>\n",
       "      <td>2023-01-01</td>\n",
       "      <td>Armenia</td>\n",
       "      <td>State (FIR)</td>\n",
       "      <td>FTFM</td>\n",
       "      <td>21138</td>\n",
       "      <td>20879.67</td>\n",
       "      <td>19409.59</td>\n",
       "    </tr>\n",
       "  </tbody>\n",
       "</table>\n",
       "</div>"
      ],
      "text/plain": [
       "   YEAR  MONTH_NUM MONTH_MON  ENTRY_DATE ENTITY_NAME  ENTITY_TYPE TYPE_MODEL  \\\n",
       "0  2023          1       JAN  2023-01-01     Albania  State (FIR)       FTFM   \n",
       "1  2023          1       JAN  2023-01-01     Albania  State (FIR)        CPF   \n",
       "2  2023          1       JAN  2023-01-01     Albania  State (FIR)        SCR   \n",
       "3  2023          1       JAN  2023-01-01     Armenia  State (FIR)        CPF   \n",
       "4  2023          1       JAN  2023-01-01     Armenia  State (FIR)       FTFM   \n",
       "\n",
       "   DIST_FLOWN_KM_1  DIST_DIRECT_KM  DIST_ACHIEVED_KM_1  \n",
       "0            81346        81281.09            77641.27  \n",
       "1            79583        79256.24            77760.60  \n",
       "2            74119        74062.76            70587.17  \n",
       "3            20660        20459.14            19374.38  \n",
       "4            21138        20879.67            19409.59  "
      ]
     },
     "execution_count": 612,
     "metadata": {},
     "output_type": "execute_result"
    }
   ],
   "source": [
    "df = pd.read_csv(\"Euroflight_2023.csv\")\n",
    "\n",
    "if 'Unnamed: 0' in df.columns:\n",
    "    df.drop(\"Unnamed: 0\", axis=1, inplace=True)\n",
    "else:\n",
    "    pass\n",
    "\n",
    "df_2023 = df.copy()\n",
    "df.head()"
   ]
  },
  {
   "cell_type": "code",
   "execution_count": 613,
   "metadata": {},
   "outputs": [],
   "source": [
    "df_2023[\"PLANNED_KM\"] = df_2023[\"DIST_FLOWN_KM_1\"]/1000\n",
    "df_2023[\"ACTUAL_KM\"] = df_2023[\"DIST_ACHIEVED_KM_1\"]/1000\n",
    "\n",
    "df_check = df_2023[df_2023['ACTUAL_KM']>10000]"
   ]
  },
  {
   "cell_type": "code",
   "execution_count": 614,
   "metadata": {},
   "outputs": [
    {
     "data": {
      "text/plain": [
       "State (FIR)    43800\n",
       "FAB (FIR)      12045\n",
       "Name: ENTITY_TYPE, dtype: int64"
      ]
     },
     "execution_count": 614,
     "metadata": {},
     "output_type": "execute_result"
    }
   ],
   "source": [
    "df_2023 = df_2023[df_2023['ENTITY_TYPE']!=\"Area (FIR)\"]\n",
    "df_2023['ENTITY_TYPE'].value_counts()"
   ]
  },
  {
   "cell_type": "code",
   "execution_count": 615,
   "metadata": {},
   "outputs": [
    {
     "data": {
      "text/html": [
       "<div>\n",
       "<style scoped>\n",
       "    .dataframe tbody tr th:only-of-type {\n",
       "        vertical-align: middle;\n",
       "    }\n",
       "\n",
       "    .dataframe tbody tr th {\n",
       "        vertical-align: top;\n",
       "    }\n",
       "\n",
       "    .dataframe thead th {\n",
       "        text-align: right;\n",
       "    }\n",
       "</style>\n",
       "<table border=\"1\" class=\"dataframe\">\n",
       "  <thead>\n",
       "    <tr style=\"text-align: right;\">\n",
       "      <th></th>\n",
       "      <th>TYPE_MODEL</th>\n",
       "      <th>EFFICIENCY</th>\n",
       "    </tr>\n",
       "  </thead>\n",
       "  <tbody>\n",
       "    <tr>\n",
       "      <th>0</th>\n",
       "      <td>CPF</td>\n",
       "      <td>13.01249</td>\n",
       "    </tr>\n",
       "    <tr>\n",
       "      <th>1</th>\n",
       "      <td>FTFM</td>\n",
       "      <td>18.50577</td>\n",
       "    </tr>\n",
       "    <tr>\n",
       "      <th>2</th>\n",
       "      <td>SCR</td>\n",
       "      <td>17.13018</td>\n",
       "    </tr>\n",
       "  </tbody>\n",
       "</table>\n",
       "</div>"
      ],
      "text/plain": [
       "  TYPE_MODEL  EFFICIENCY\n",
       "0        CPF    13.01249\n",
       "1       FTFM    18.50577\n",
       "2        SCR    17.13018"
      ]
     },
     "execution_count": 615,
     "metadata": {},
     "output_type": "execute_result"
    }
   ],
   "source": [
    "df_2023[\"EFFICIENCY\"] = df_2023[\"PLANNED_KM\"]- df_2023[\"ACTUAL_KM\"]\n",
    "\n",
    "horizontal_efficacy_23 = df_2023[['TYPE_MODEL','EFFICIENCY']].groupby('TYPE_MODEL').median().reset_index()\n",
    "horizontal_efficacy_23"
   ]
  },
  {
   "cell_type": "markdown",
   "metadata": {},
   "source": [
    "---"
   ]
  },
  {
   "cell_type": "code",
   "execution_count": 616,
   "metadata": {},
   "outputs": [
    {
     "data": {
      "image/png": "[encoded data removed]",
      "text/plain": [
       "<Figure size 1000x800 with 1 Axes>"
      ]
     },
     "metadata": {},
     "output_type": "display_data"
    }
   ],
   "source": [
    "plt.figure(figsize=(10, 8))\n",
    "sns.barplot(x='TYPE_MODEL', y='EFFICIENCY', data=horizontal_efficacy_23,palette=\"viridis\")\n",
    "plt.title('Horizontal Efficiency Median')\n",
    "plt.xlabel('Method')\n",
    "plt.ylabel('Median(km)');"
   ]
  },
  {
   "cell_type": "markdown",
   "metadata": {},
   "source": [
    "---\n",
    "---\n",
    "# 2022"
   ]
  },
  {
   "cell_type": "code",
   "execution_count": 617,
   "metadata": {},
   "outputs": [
    {
     "data": {
      "text/html": [
       "<div>\n",
       "<style scoped>\n",
       "    .dataframe tbody tr th:only-of-type {\n",
       "        vertical-align: middle;\n",
       "    }\n",
       "\n",
       "    .dataframe tbody tr th {\n",
       "        vertical-align: top;\n",
       "    }\n",
       "\n",
       "    .dataframe thead th {\n",
       "        text-align: right;\n",
       "    }\n",
       "</style>\n",
       "<table border=\"1\" class=\"dataframe\">\n",
       "  <thead>\n",
       "    <tr style=\"text-align: right;\">\n",
       "      <th></th>\n",
       "      <th>YEAR</th>\n",
       "      <th>MONTH_NUM</th>\n",
       "      <th>MONTH_MON</th>\n",
       "      <th>ENTRY_DATE</th>\n",
       "      <th>ENTITY_NAME</th>\n",
       "      <th>ENTITY_TYPE</th>\n",
       "      <th>TYPE_MODEL</th>\n",
       "      <th>DIST_FLOWN_KM_1</th>\n",
       "      <th>DIST_DIRECT_KM</th>\n",
       "      <th>DIST_ACHIEVED_KM_1</th>\n",
       "    </tr>\n",
       "  </thead>\n",
       "  <tbody>\n",
       "    <tr>\n",
       "      <th>0</th>\n",
       "      <td>2022</td>\n",
       "      <td>1</td>\n",
       "      <td>JAN</td>\n",
       "      <td>2022-01-01</td>\n",
       "      <td>Albania</td>\n",
       "      <td>State (FIR)</td>\n",
       "      <td>CPF</td>\n",
       "      <td>58714</td>\n",
       "      <td>58654.74</td>\n",
       "      <td>57796.41</td>\n",
       "    </tr>\n",
       "    <tr>\n",
       "      <th>1</th>\n",
       "      <td>2022</td>\n",
       "      <td>1</td>\n",
       "      <td>JAN</td>\n",
       "      <td>2022-01-01</td>\n",
       "      <td>Albania</td>\n",
       "      <td>State (FIR)</td>\n",
       "      <td>FTFM</td>\n",
       "      <td>66251</td>\n",
       "      <td>66215.99</td>\n",
       "      <td>61775.52</td>\n",
       "    </tr>\n",
       "    <tr>\n",
       "      <th>2</th>\n",
       "      <td>2022</td>\n",
       "      <td>1</td>\n",
       "      <td>JAN</td>\n",
       "      <td>2022-01-01</td>\n",
       "      <td>Albania</td>\n",
       "      <td>State (FIR)</td>\n",
       "      <td>SCR</td>\n",
       "      <td>57472</td>\n",
       "      <td>57427.27</td>\n",
       "      <td>53331.37</td>\n",
       "    </tr>\n",
       "    <tr>\n",
       "      <th>3</th>\n",
       "      <td>2022</td>\n",
       "      <td>1</td>\n",
       "      <td>JAN</td>\n",
       "      <td>2022-01-01</td>\n",
       "      <td>Armenia</td>\n",
       "      <td>State (FIR)</td>\n",
       "      <td>CPF</td>\n",
       "      <td>14881</td>\n",
       "      <td>14726.84</td>\n",
       "      <td>14332.22</td>\n",
       "    </tr>\n",
       "    <tr>\n",
       "      <th>4</th>\n",
       "      <td>2022</td>\n",
       "      <td>1</td>\n",
       "      <td>JAN</td>\n",
       "      <td>2022-01-01</td>\n",
       "      <td>Armenia</td>\n",
       "      <td>State (FIR)</td>\n",
       "      <td>FTFM</td>\n",
       "      <td>15282</td>\n",
       "      <td>15083.81</td>\n",
       "      <td>14541.66</td>\n",
       "    </tr>\n",
       "  </tbody>\n",
       "</table>\n",
       "</div>"
      ],
      "text/plain": [
       "   YEAR  MONTH_NUM MONTH_MON  ENTRY_DATE ENTITY_NAME  ENTITY_TYPE TYPE_MODEL  \\\n",
       "0  2022          1       JAN  2022-01-01     Albania  State (FIR)        CPF   \n",
       "1  2022          1       JAN  2022-01-01     Albania  State (FIR)       FTFM   \n",
       "2  2022          1       JAN  2022-01-01     Albania  State (FIR)        SCR   \n",
       "3  2022          1       JAN  2022-01-01     Armenia  State (FIR)        CPF   \n",
       "4  2022          1       JAN  2022-01-01     Armenia  State (FIR)       FTFM   \n",
       "\n",
       "   DIST_FLOWN_KM_1  DIST_DIRECT_KM  DIST_ACHIEVED_KM_1  \n",
       "0            58714        58654.74            57796.41  \n",
       "1            66251        66215.99            61775.52  \n",
       "2            57472        57427.27            53331.37  \n",
       "3            14881        14726.84            14332.22  \n",
       "4            15282        15083.81            14541.66  "
      ]
     },
     "execution_count": 617,
     "metadata": {},
     "output_type": "execute_result"
    }
   ],
   "source": [
    "df = pd.read_csv(\"Euroflight_2022.csv\")\n",
    "\n",
    "if 'Unnamed: 0' in df.columns:\n",
    "    df.drop(\"Unnamed: 0\", axis=1, inplace=True)\n",
    "else:\n",
    "    pass\n",
    "\n",
    "df_2022 = df.copy()\n",
    "df.head()"
   ]
  },
  {
   "cell_type": "code",
   "execution_count": 618,
   "metadata": {},
   "outputs": [],
   "source": [
    "df_2022[\"PLANNED_KM\"] = df_2022[\"DIST_FLOWN_KM_1\"]/1000\n",
    "df_2022[\"ACTUAL_KM\"] = df_2022[\"DIST_ACHIEVED_KM_1\"]/1000\n",
    "\n",
    "df_check = df_2022[df_2022['ACTUAL_KM']>10000]"
   ]
  },
  {
   "cell_type": "code",
   "execution_count": 619,
   "metadata": {},
   "outputs": [
    {
     "data": {
      "text/plain": [
       "State (FIR)    43915\n",
       "FAB (FIR)      12045\n",
       "Name: ENTITY_TYPE, dtype: int64"
      ]
     },
     "execution_count": 619,
     "metadata": {},
     "output_type": "execute_result"
    }
   ],
   "source": [
    "df_2022 = df_2022[df_2022['ENTITY_TYPE']!=\"Area (FIR)\"]\n",
    "df_2022['ENTITY_TYPE'].value_counts()"
   ]
  },
  {
   "cell_type": "code",
   "execution_count": 620,
   "metadata": {},
   "outputs": [
    {
     "data": {
      "text/html": [
       "<div>\n",
       "<style scoped>\n",
       "    .dataframe tbody tr th:only-of-type {\n",
       "        vertical-align: middle;\n",
       "    }\n",
       "\n",
       "    .dataframe tbody tr th {\n",
       "        vertical-align: top;\n",
       "    }\n",
       "\n",
       "    .dataframe thead th {\n",
       "        text-align: right;\n",
       "    }\n",
       "</style>\n",
       "<table border=\"1\" class=\"dataframe\">\n",
       "  <thead>\n",
       "    <tr style=\"text-align: right;\">\n",
       "      <th></th>\n",
       "      <th>TYPE_MODEL</th>\n",
       "      <th>EFFICIENCY</th>\n",
       "    </tr>\n",
       "  </thead>\n",
       "  <tbody>\n",
       "    <tr>\n",
       "      <th>0</th>\n",
       "      <td>CPF</td>\n",
       "      <td>11.30470</td>\n",
       "    </tr>\n",
       "    <tr>\n",
       "      <th>1</th>\n",
       "      <td>FTFM</td>\n",
       "      <td>16.62888</td>\n",
       "    </tr>\n",
       "    <tr>\n",
       "      <th>2</th>\n",
       "      <td>SCR</td>\n",
       "      <td>14.98244</td>\n",
       "    </tr>\n",
       "  </tbody>\n",
       "</table>\n",
       "</div>"
      ],
      "text/plain": [
       "  TYPE_MODEL  EFFICIENCY\n",
       "0        CPF    11.30470\n",
       "1       FTFM    16.62888\n",
       "2        SCR    14.98244"
      ]
     },
     "execution_count": 620,
     "metadata": {},
     "output_type": "execute_result"
    }
   ],
   "source": [
    "df_2022[\"EFFICIENCY\"] = df_2022[\"PLANNED_KM\"]- df_2022[\"ACTUAL_KM\"]\n",
    "\n",
    "horizontal_efficacy_22 = df_2022[['TYPE_MODEL','EFFICIENCY']].groupby('TYPE_MODEL').median().reset_index()\n",
    "horizontal_efficacy_22"
   ]
  },
  {
   "cell_type": "markdown",
   "metadata": {},
   "source": [
    "---"
   ]
  },
  {
   "cell_type": "code",
   "execution_count": 621,
   "metadata": {},
   "outputs": [
    {
     "data": {
      "image/png": "[encoded data removed]",
      "text/plain": [
       "<Figure size 1000x800 with 1 Axes>"
      ]
     },
     "metadata": {},
     "output_type": "display_data"
    }
   ],
   "source": [
    "plt.figure(figsize=(10, 8))\n",
    "sns.barplot(x='TYPE_MODEL', y='EFFICIENCY', data=horizontal_efficacy_22,palette=\"viridis\")\n",
    "plt.title('Horizontal Efficiency Median')\n",
    "plt.xlabel('Method')\n",
    "plt.ylabel('Median(km)');"
   ]
  },
  {
   "cell_type": "markdown",
   "metadata": {},
   "source": [
    "---\n",
    "---\n",
    "# 2021"
   ]
  },
  {
   "cell_type": "code",
   "execution_count": 622,
   "metadata": {},
   "outputs": [
    {
     "data": {
      "text/html": [
       "<div>\n",
       "<style scoped>\n",
       "    .dataframe tbody tr th:only-of-type {\n",
       "        vertical-align: middle;\n",
       "    }\n",
       "\n",
       "    .dataframe tbody tr th {\n",
       "        vertical-align: top;\n",
       "    }\n",
       "\n",
       "    .dataframe thead th {\n",
       "        text-align: right;\n",
       "    }\n",
       "</style>\n",
       "<table border=\"1\" class=\"dataframe\">\n",
       "  <thead>\n",
       "    <tr style=\"text-align: right;\">\n",
       "      <th></th>\n",
       "      <th>YEAR</th>\n",
       "      <th>MONTH_NUM</th>\n",
       "      <th>MONTH_MON</th>\n",
       "      <th>ENTRY_DATE</th>\n",
       "      <th>ENTITY_NAME</th>\n",
       "      <th>ENTITY_TYPE</th>\n",
       "      <th>TYPE_MODEL</th>\n",
       "      <th>DIST_FLOWN_KM_1</th>\n",
       "      <th>DIST_DIRECT_KM</th>\n",
       "      <th>DIST_ACHIEVED_KM_1</th>\n",
       "    </tr>\n",
       "  </thead>\n",
       "  <tbody>\n",
       "    <tr>\n",
       "      <th>0</th>\n",
       "      <td>2021</td>\n",
       "      <td>1</td>\n",
       "      <td>JAN</td>\n",
       "      <td>2021-01-01</td>\n",
       "      <td>Albania</td>\n",
       "      <td>State (FIR)</td>\n",
       "      <td>CPF</td>\n",
       "      <td>17026</td>\n",
       "      <td>17008.61</td>\n",
       "      <td>16782.81</td>\n",
       "    </tr>\n",
       "    <tr>\n",
       "      <th>1</th>\n",
       "      <td>2021</td>\n",
       "      <td>1</td>\n",
       "      <td>JAN</td>\n",
       "      <td>2021-01-01</td>\n",
       "      <td>Albania</td>\n",
       "      <td>State (FIR)</td>\n",
       "      <td>FTFM</td>\n",
       "      <td>19968</td>\n",
       "      <td>19957.31</td>\n",
       "      <td>18395.44</td>\n",
       "    </tr>\n",
       "    <tr>\n",
       "      <th>2</th>\n",
       "      <td>2021</td>\n",
       "      <td>1</td>\n",
       "      <td>JAN</td>\n",
       "      <td>2021-01-01</td>\n",
       "      <td>Albania</td>\n",
       "      <td>State (FIR)</td>\n",
       "      <td>SCR</td>\n",
       "      <td>18436</td>\n",
       "      <td>18431.39</td>\n",
       "      <td>16872.42</td>\n",
       "    </tr>\n",
       "    <tr>\n",
       "      <th>3</th>\n",
       "      <td>2021</td>\n",
       "      <td>1</td>\n",
       "      <td>JAN</td>\n",
       "      <td>2021-01-01</td>\n",
       "      <td>Armenia</td>\n",
       "      <td>State (FIR)</td>\n",
       "      <td>CPF</td>\n",
       "      <td>7767</td>\n",
       "      <td>7713.50</td>\n",
       "      <td>7483.04</td>\n",
       "    </tr>\n",
       "    <tr>\n",
       "      <th>4</th>\n",
       "      <td>2021</td>\n",
       "      <td>1</td>\n",
       "      <td>JAN</td>\n",
       "      <td>2021-01-01</td>\n",
       "      <td>Armenia</td>\n",
       "      <td>State (FIR)</td>\n",
       "      <td>FTFM</td>\n",
       "      <td>3883</td>\n",
       "      <td>3832.12</td>\n",
       "      <td>3763.72</td>\n",
       "    </tr>\n",
       "  </tbody>\n",
       "</table>\n",
       "</div>"
      ],
      "text/plain": [
       "   YEAR  MONTH_NUM MONTH_MON  ENTRY_DATE ENTITY_NAME  ENTITY_TYPE TYPE_MODEL  \\\n",
       "0  2021          1       JAN  2021-01-01     Albania  State (FIR)        CPF   \n",
       "1  2021          1       JAN  2021-01-01     Albania  State (FIR)       FTFM   \n",
       "2  2021          1       JAN  2021-01-01     Albania  State (FIR)        SCR   \n",
       "3  2021          1       JAN  2021-01-01     Armenia  State (FIR)        CPF   \n",
       "4  2021          1       JAN  2021-01-01     Armenia  State (FIR)       FTFM   \n",
       "\n",
       "   DIST_FLOWN_KM_1  DIST_DIRECT_KM  DIST_ACHIEVED_KM_1  \n",
       "0            17026        17008.61            16782.81  \n",
       "1            19968        19957.31            18395.44  \n",
       "2            18436        18431.39            16872.42  \n",
       "3             7767         7713.50             7483.04  \n",
       "4             3883         3832.12             3763.72  "
      ]
     },
     "execution_count": 622,
     "metadata": {},
     "output_type": "execute_result"
    }
   ],
   "source": [
    "df = pd.read_csv(\"Euroflight_2021.csv\")\n",
    "\n",
    "if 'Unnamed: 0' in df.columns:\n",
    "    df.drop(\"Unnamed: 0\", axis=1, inplace=True)\n",
    "else:\n",
    "    pass\n",
    "\n",
    "df_2021 = df.copy()\n",
    "df.head()"
   ]
  },
  {
   "cell_type": "code",
   "execution_count": 623,
   "metadata": {},
   "outputs": [],
   "source": [
    "df_2021[\"PLANNED_KM\"] = df_2021[\"DIST_FLOWN_KM_1\"]/1000\n",
    "df_2021[\"ACTUAL_KM\"] = df_2021[\"DIST_ACHIEVED_KM_1\"]/1000\n",
    "\n",
    "df_check = df_2021[df_2021['ACTUAL_KM']>10000]"
   ]
  },
  {
   "cell_type": "code",
   "execution_count": 624,
   "metadata": {},
   "outputs": [
    {
     "data": {
      "text/plain": [
       "State (FIR)    44352\n",
       "FAB (FIR)      12045\n",
       "Name: ENTITY_TYPE, dtype: int64"
      ]
     },
     "execution_count": 624,
     "metadata": {},
     "output_type": "execute_result"
    }
   ],
   "source": [
    "df_2021 = df_2021[df_2021['ENTITY_TYPE']!=\"Area (FIR)\"]\n",
    "df_2021['ENTITY_TYPE'].value_counts()"
   ]
  },
  {
   "cell_type": "code",
   "execution_count": 625,
   "metadata": {},
   "outputs": [
    {
     "data": {
      "text/html": [
       "<div>\n",
       "<style scoped>\n",
       "    .dataframe tbody tr th:only-of-type {\n",
       "        vertical-align: middle;\n",
       "    }\n",
       "\n",
       "    .dataframe tbody tr th {\n",
       "        vertical-align: top;\n",
       "    }\n",
       "\n",
       "    .dataframe thead th {\n",
       "        text-align: right;\n",
       "    }\n",
       "</style>\n",
       "<table border=\"1\" class=\"dataframe\">\n",
       "  <thead>\n",
       "    <tr style=\"text-align: right;\">\n",
       "      <th></th>\n",
       "      <th>TYPE_MODEL</th>\n",
       "      <th>EFFICIENCY</th>\n",
       "    </tr>\n",
       "  </thead>\n",
       "  <tbody>\n",
       "    <tr>\n",
       "      <th>0</th>\n",
       "      <td>CPF</td>\n",
       "      <td>5.79045</td>\n",
       "    </tr>\n",
       "    <tr>\n",
       "      <th>1</th>\n",
       "      <td>FTFM</td>\n",
       "      <td>8.62717</td>\n",
       "    </tr>\n",
       "    <tr>\n",
       "      <th>2</th>\n",
       "      <td>SCR</td>\n",
       "      <td>7.45176</td>\n",
       "    </tr>\n",
       "  </tbody>\n",
       "</table>\n",
       "</div>"
      ],
      "text/plain": [
       "  TYPE_MODEL  EFFICIENCY\n",
       "0        CPF     5.79045\n",
       "1       FTFM     8.62717\n",
       "2        SCR     7.45176"
      ]
     },
     "execution_count": 625,
     "metadata": {},
     "output_type": "execute_result"
    }
   ],
   "source": [
    "df_2021[\"EFFICIENCY\"] = df_2021[\"PLANNED_KM\"]- df_2021[\"ACTUAL_KM\"]\n",
    "\n",
    "horizontal_efficacy_21 = df_2021[['TYPE_MODEL','EFFICIENCY']].groupby('TYPE_MODEL').median().reset_index()\n",
    "horizontal_efficacy_21"
   ]
  },
  {
   "cell_type": "markdown",
   "metadata": {},
   "source": [
    "---"
   ]
  },
  {
   "cell_type": "code",
   "execution_count": 626,
   "metadata": {},
   "outputs": [
    {
     "data": {
      "image/png": "[encoded data removed]",
      "text/plain": [
       "<Figure size 1000x800 with 1 Axes>"
      ]
     },
     "metadata": {},
     "output_type": "display_data"
    }
   ],
   "source": [
    "plt.figure(figsize=(10, 8))\n",
    "sns.barplot(x='TYPE_MODEL', y='EFFICIENCY', data=horizontal_efficacy_21,palette=\"viridis\")\n",
    "plt.title('Horizontal Efficiency Median')\n",
    "plt.xlabel('Method')\n",
    "plt.ylabel('Median(km)');"
   ]
  },
  {
   "cell_type": "markdown",
   "metadata": {},
   "source": [
    "---\n",
    "---"
   ]
  },
  {
   "cell_type": "code",
   "execution_count": 627,
   "metadata": {},
   "outputs": [
    {
     "data": {
      "text/html": [
       "<div>\n",
       "<style scoped>\n",
       "    .dataframe tbody tr th:only-of-type {\n",
       "        vertical-align: middle;\n",
       "    }\n",
       "\n",
       "    .dataframe tbody tr th {\n",
       "        vertical-align: top;\n",
       "    }\n",
       "\n",
       "    .dataframe thead th {\n",
       "        text-align: right;\n",
       "    }\n",
       "</style>\n",
       "<table border=\"1\" class=\"dataframe\">\n",
       "  <thead>\n",
       "    <tr style=\"text-align: right;\">\n",
       "      <th></th>\n",
       "      <th>YEAR</th>\n",
       "      <th>MONTH_NUM</th>\n",
       "      <th>MONTH_MON</th>\n",
       "      <th>ENTRY_DATE</th>\n",
       "      <th>ENTITY_NAME</th>\n",
       "      <th>ENTITY_TYPE</th>\n",
       "      <th>TYPE_MODEL</th>\n",
       "      <th>DIST_FLOWN_KM_1</th>\n",
       "      <th>DIST_DIRECT_KM</th>\n",
       "      <th>DIST_ACHIEVED_KM_1</th>\n",
       "    </tr>\n",
       "  </thead>\n",
       "  <tbody>\n",
       "    <tr>\n",
       "      <th>59287</th>\n",
       "      <td>2020</td>\n",
       "      <td>12</td>\n",
       "      <td>DEC</td>\n",
       "      <td>2020-12-31</td>\n",
       "      <td>UK-Ireland FAB</td>\n",
       "      <td>FAB (FIR)</td>\n",
       "      <td>FTFM</td>\n",
       "      <td>359428</td>\n",
       "      <td>349686.45</td>\n",
       "      <td>341594.94</td>\n",
       "    </tr>\n",
       "    <tr>\n",
       "      <th>59288</th>\n",
       "      <td>2020</td>\n",
       "      <td>12</td>\n",
       "      <td>DEC</td>\n",
       "      <td>2020-12-31</td>\n",
       "      <td>UK-Ireland FAB</td>\n",
       "      <td>FAB (FIR)</td>\n",
       "      <td>SCR</td>\n",
       "      <td>389422</td>\n",
       "      <td>380537.13</td>\n",
       "      <td>372971.21</td>\n",
       "    </tr>\n",
       "    <tr>\n",
       "      <th>59289</th>\n",
       "      <td>2020</td>\n",
       "      <td>12</td>\n",
       "      <td>DEC</td>\n",
       "      <td>2020-12-31</td>\n",
       "      <td>Ukraine</td>\n",
       "      <td>State (FIR)</td>\n",
       "      <td>CPF</td>\n",
       "      <td>139882</td>\n",
       "      <td>138606.49</td>\n",
       "      <td>136541.87</td>\n",
       "    </tr>\n",
       "    <tr>\n",
       "      <th>59290</th>\n",
       "      <td>2020</td>\n",
       "      <td>12</td>\n",
       "      <td>DEC</td>\n",
       "      <td>2020-12-31</td>\n",
       "      <td>Ukraine</td>\n",
       "      <td>State (FIR)</td>\n",
       "      <td>FTFM</td>\n",
       "      <td>72736</td>\n",
       "      <td>70829.42</td>\n",
       "      <td>68737.01</td>\n",
       "    </tr>\n",
       "    <tr>\n",
       "      <th>59291</th>\n",
       "      <td>2020</td>\n",
       "      <td>12</td>\n",
       "      <td>DEC</td>\n",
       "      <td>2020-12-31</td>\n",
       "      <td>Ukraine</td>\n",
       "      <td>State (FIR)</td>\n",
       "      <td>SCR</td>\n",
       "      <td>141860</td>\n",
       "      <td>139394.76</td>\n",
       "      <td>136490.56</td>\n",
       "    </tr>\n",
       "  </tbody>\n",
       "</table>\n",
       "</div>"
      ],
      "text/plain": [
       "       YEAR  MONTH_NUM MONTH_MON  ENTRY_DATE     ENTITY_NAME  ENTITY_TYPE  \\\n",
       "59287  2020         12       DEC  2020-12-31  UK-Ireland FAB    FAB (FIR)   \n",
       "59288  2020         12       DEC  2020-12-31  UK-Ireland FAB    FAB (FIR)   \n",
       "59289  2020         12       DEC  2020-12-31         Ukraine  State (FIR)   \n",
       "59290  2020         12       DEC  2020-12-31         Ukraine  State (FIR)   \n",
       "59291  2020         12       DEC  2020-12-31         Ukraine  State (FIR)   \n",
       "\n",
       "      TYPE_MODEL  DIST_FLOWN_KM_1  DIST_DIRECT_KM  DIST_ACHIEVED_KM_1  \n",
       "59287       FTFM           359428       349686.45           341594.94  \n",
       "59288        SCR           389422       380537.13           372971.21  \n",
       "59289        CPF           139882       138606.49           136541.87  \n",
       "59290       FTFM            72736        70829.42            68737.01  \n",
       "59291        SCR           141860       139394.76           136490.56  "
      ]
     },
     "execution_count": 627,
     "metadata": {},
     "output_type": "execute_result"
    }
   ],
   "source": [
    "df = pd.read_csv(\"Euroflight_2020.csv\")\n",
    "\n",
    "if 'Unnamed: 0' in df.columns:\n",
    "    df.drop(\"Unnamed: 0\", axis=1, inplace=True)\n",
    "else:\n",
    "    pass\n",
    "\n",
    "df_2020 = df.copy()\n",
    "df.tail()"
   ]
  },
  {
   "cell_type": "code",
   "execution_count": 628,
   "metadata": {},
   "outputs": [],
   "source": [
    "df_2020[\"PLANNED_KM\"] = df_2020[\"DIST_FLOWN_KM_1\"]/1000\n",
    "df_2020[\"ACTUAL_KM\"] = df_2020[\"DIST_ACHIEVED_KM_1\"]/1000\n",
    "\n",
    "df_check = df_2020[df_2020['ACTUAL_KM']>10000]"
   ]
  },
  {
   "cell_type": "code",
   "execution_count": 629,
   "metadata": {},
   "outputs": [
    {
     "data": {
      "text/plain": [
       "State (FIR)    43920\n",
       "FAB (FIR)      12078\n",
       "Name: ENTITY_TYPE, dtype: int64"
      ]
     },
     "execution_count": 629,
     "metadata": {},
     "output_type": "execute_result"
    }
   ],
   "source": [
    "df_2020 = df_2020[df_2020['ENTITY_TYPE']!=\"Area (FIR)\"]\n",
    "df_2020['ENTITY_TYPE'].value_counts()"
   ]
  },
  {
   "cell_type": "code",
   "execution_count": 630,
   "metadata": {},
   "outputs": [
    {
     "data": {
      "text/html": [
       "<div>\n",
       "<style scoped>\n",
       "    .dataframe tbody tr th:only-of-type {\n",
       "        vertical-align: middle;\n",
       "    }\n",
       "\n",
       "    .dataframe tbody tr th {\n",
       "        vertical-align: top;\n",
       "    }\n",
       "\n",
       "    .dataframe thead th {\n",
       "        text-align: right;\n",
       "    }\n",
       "</style>\n",
       "<table border=\"1\" class=\"dataframe\">\n",
       "  <thead>\n",
       "    <tr style=\"text-align: right;\">\n",
       "      <th></th>\n",
       "      <th>TYPE_MODEL</th>\n",
       "      <th>EFFICIENCY</th>\n",
       "    </tr>\n",
       "  </thead>\n",
       "  <tbody>\n",
       "    <tr>\n",
       "      <th>0</th>\n",
       "      <td>CPF</td>\n",
       "      <td>3.641255</td>\n",
       "    </tr>\n",
       "    <tr>\n",
       "      <th>1</th>\n",
       "      <td>FTFM</td>\n",
       "      <td>5.759425</td>\n",
       "    </tr>\n",
       "    <tr>\n",
       "      <th>2</th>\n",
       "      <td>SCR</td>\n",
       "      <td>4.870375</td>\n",
       "    </tr>\n",
       "  </tbody>\n",
       "</table>\n",
       "</div>"
      ],
      "text/plain": [
       "  TYPE_MODEL  EFFICIENCY\n",
       "0        CPF    3.641255\n",
       "1       FTFM    5.759425\n",
       "2        SCR    4.870375"
      ]
     },
     "execution_count": 630,
     "metadata": {},
     "output_type": "execute_result"
    }
   ],
   "source": [
    "df_2020[\"EFFICIENCY\"] = df_2020[\"PLANNED_KM\"]- df_2020[\"ACTUAL_KM\"]\n",
    "\n",
    "horizontal_efficacy_20 = df_2020[['TYPE_MODEL','EFFICIENCY']].groupby('TYPE_MODEL').median().reset_index()\n",
    "horizontal_efficacy_20"
   ]
  },
  {
   "cell_type": "markdown",
   "metadata": {},
   "source": [
    "---"
   ]
  },
  {
   "cell_type": "code",
   "execution_count": 631,
   "metadata": {},
   "outputs": [
    {
     "data": {
      "image/png": "[encoded data removed]",
      "text/plain": [
       "<Figure size 1000x800 with 1 Axes>"
      ]
     },
     "metadata": {},
     "output_type": "display_data"
    }
   ],
   "source": [
    "plt.figure(figsize=(10, 8))\n",
    "sns.barplot(x='TYPE_MODEL', y='EFFICIENCY', data=horizontal_efficacy_20,palette=\"viridis\")\n",
    "plt.title('Horizontal Efficiency Median')\n",
    "plt.xlabel('Method')\n",
    "plt.ylabel('Median(km)');"
   ]
  },
  {
   "cell_type": "markdown",
   "metadata": {},
   "source": [
    "---\n",
    "---\n",
    "# Combine all Data"
   ]
  },
  {
   "cell_type": "code",
   "execution_count": null,
   "metadata": {},
   "outputs": [],
   "source": []
  },
  {
   "cell_type": "code",
   "execution_count": 632,
   "metadata": {},
   "outputs": [],
   "source": [
    "horizontal_efficacy_24['YEAR'] = 2024\n",
    "horizontal_efficacy_23['YEAR'] = 2023\n",
    "horizontal_efficacy_22['YEAR'] = 2022\n",
    "horizontal_efficacy_21['YEAR'] = 2021\n",
    "horizontal_efficacy_20['YEAR'] = 2020"
   ]
  },
  {
   "cell_type": "code",
   "execution_count": 633,
   "metadata": {},
   "outputs": [],
   "source": [
    "df_efficacy = pd.concat([horizontal_efficacy_20, horizontal_efficacy_21,horizontal_efficacy_22,horizontal_efficacy_23,horizontal_efficacy_24], ignore_index=True)"
   ]
  },
  {
   "cell_type": "code",
   "execution_count": 634,
   "metadata": {},
   "outputs": [
    {
     "data": {
      "text/html": [
       "<div>\n",
       "<style scoped>\n",
       "    .dataframe tbody tr th:only-of-type {\n",
       "        vertical-align: middle;\n",
       "    }\n",
       "\n",
       "    .dataframe tbody tr th {\n",
       "        vertical-align: top;\n",
       "    }\n",
       "\n",
       "    .dataframe thead th {\n",
       "        text-align: right;\n",
       "    }\n",
       "</style>\n",
       "<table border=\"1\" class=\"dataframe\">\n",
       "  <thead>\n",
       "    <tr style=\"text-align: right;\">\n",
       "      <th></th>\n",
       "      <th>TYPE_MODEL</th>\n",
       "      <th>EFFICIENCY</th>\n",
       "      <th>YEAR</th>\n",
       "    </tr>\n",
       "  </thead>\n",
       "  <tbody>\n",
       "    <tr>\n",
       "      <th>0</th>\n",
       "      <td>CPF</td>\n",
       "      <td>3.641255</td>\n",
       "      <td>2020</td>\n",
       "    </tr>\n",
       "    <tr>\n",
       "      <th>1</th>\n",
       "      <td>FTFM</td>\n",
       "      <td>5.759425</td>\n",
       "      <td>2020</td>\n",
       "    </tr>\n",
       "    <tr>\n",
       "      <th>2</th>\n",
       "      <td>SCR</td>\n",
       "      <td>4.870375</td>\n",
       "      <td>2020</td>\n",
       "    </tr>\n",
       "    <tr>\n",
       "      <th>3</th>\n",
       "      <td>CPF</td>\n",
       "      <td>5.790450</td>\n",
       "      <td>2021</td>\n",
       "    </tr>\n",
       "    <tr>\n",
       "      <th>4</th>\n",
       "      <td>FTFM</td>\n",
       "      <td>8.627170</td>\n",
       "      <td>2021</td>\n",
       "    </tr>\n",
       "    <tr>\n",
       "      <th>5</th>\n",
       "      <td>SCR</td>\n",
       "      <td>7.451760</td>\n",
       "      <td>2021</td>\n",
       "    </tr>\n",
       "    <tr>\n",
       "      <th>6</th>\n",
       "      <td>CPF</td>\n",
       "      <td>11.304700</td>\n",
       "      <td>2022</td>\n",
       "    </tr>\n",
       "    <tr>\n",
       "      <th>7</th>\n",
       "      <td>FTFM</td>\n",
       "      <td>16.628880</td>\n",
       "      <td>2022</td>\n",
       "    </tr>\n",
       "    <tr>\n",
       "      <th>8</th>\n",
       "      <td>SCR</td>\n",
       "      <td>14.982440</td>\n",
       "      <td>2022</td>\n",
       "    </tr>\n",
       "    <tr>\n",
       "      <th>9</th>\n",
       "      <td>CPF</td>\n",
       "      <td>13.012490</td>\n",
       "      <td>2023</td>\n",
       "    </tr>\n",
       "    <tr>\n",
       "      <th>10</th>\n",
       "      <td>FTFM</td>\n",
       "      <td>18.505770</td>\n",
       "      <td>2023</td>\n",
       "    </tr>\n",
       "    <tr>\n",
       "      <th>11</th>\n",
       "      <td>SCR</td>\n",
       "      <td>17.130180</td>\n",
       "      <td>2023</td>\n",
       "    </tr>\n",
       "    <tr>\n",
       "      <th>12</th>\n",
       "      <td>CPF</td>\n",
       "      <td>13.032130</td>\n",
       "      <td>2024</td>\n",
       "    </tr>\n",
       "    <tr>\n",
       "      <th>13</th>\n",
       "      <td>FTFM</td>\n",
       "      <td>18.453690</td>\n",
       "      <td>2024</td>\n",
       "    </tr>\n",
       "    <tr>\n",
       "      <th>14</th>\n",
       "      <td>SCR</td>\n",
       "      <td>16.867330</td>\n",
       "      <td>2024</td>\n",
       "    </tr>\n",
       "  </tbody>\n",
       "</table>\n",
       "</div>"
      ],
      "text/plain": [
       "   TYPE_MODEL  EFFICIENCY  YEAR\n",
       "0         CPF    3.641255  2020\n",
       "1        FTFM    5.759425  2020\n",
       "2         SCR    4.870375  2020\n",
       "3         CPF    5.790450  2021\n",
       "4        FTFM    8.627170  2021\n",
       "5         SCR    7.451760  2021\n",
       "6         CPF   11.304700  2022\n",
       "7        FTFM   16.628880  2022\n",
       "8         SCR   14.982440  2022\n",
       "9         CPF   13.012490  2023\n",
       "10       FTFM   18.505770  2023\n",
       "11        SCR   17.130180  2023\n",
       "12        CPF   13.032130  2024\n",
       "13       FTFM   18.453690  2024\n",
       "14        SCR   16.867330  2024"
      ]
     },
     "execution_count": 634,
     "metadata": {},
     "output_type": "execute_result"
    }
   ],
   "source": [
    "df_efficacy"
   ]
  },
  {
   "cell_type": "code",
   "execution_count": 635,
   "metadata": {},
   "outputs": [
    {
     "data": {
      "image/png": "[encoded data removed]",
      "text/plain": [
       "<Figure size 1000x600 with 1 Axes>"
      ]
     },
     "metadata": {},
     "output_type": "display_data"
    }
   ],
   "source": [
    "plt.figure(figsize=(10, 6))\n",
    "colors = {'CPF': 'royalblue', 'FTFM': 'cadetblue', 'SCR': 'blueviolet'}\n",
    "\n",
    "for model in df_efficacy['TYPE_MODEL'].unique():\n",
    "    plt.plot(df_efficacy[df_efficacy['TYPE_MODEL'] == model]['YEAR'], df_efficacy[df_efficacy['TYPE_MODEL'] == model]['EFFICIENCY'], marker='o', label=model,color=colors[model])\n",
    "\n",
    "    for i, efficiency in enumerate(df_efficacy[df_efficacy['TYPE_MODEL'] == model]['EFFICIENCY']):\n",
    "        plt.text(df_efficacy[df_efficacy['TYPE_MODEL'] == model]['YEAR'].iloc[i], efficiency, f'{efficiency:.2f}', ha='center', va='bottom')\n",
    "\n",
    "plt.xticks([2020, 2021, 2022, 2023, 2024])\n",
    "plt.title('Horizontal Efficiency Methods Over Years')\n",
    "plt.xlabel('Year')\n",
    "plt.ylabel('Median Efficiency (KM)')\n",
    "plt.legend()\n",
    "plt.tight_layout()\n",
    "plt.show()\n"
   ]
  },
  {
   "cell_type": "markdown",
   "metadata": {},
   "source": [
    "---\n",
    "---"
   ]
  },
  {
   "cell_type": "code",
   "execution_count": 636,
   "metadata": {},
   "outputs": [
    {
     "data": {
      "text/html": [
       "<div>\n",
       "<style scoped>\n",
       "    .dataframe tbody tr th:only-of-type {\n",
       "        vertical-align: middle;\n",
       "    }\n",
       "\n",
       "    .dataframe tbody tr th {\n",
       "        vertical-align: top;\n",
       "    }\n",
       "\n",
       "    .dataframe thead th {\n",
       "        text-align: right;\n",
       "    }\n",
       "</style>\n",
       "<table border=\"1\" class=\"dataframe\">\n",
       "  <thead>\n",
       "    <tr style=\"text-align: right;\">\n",
       "      <th></th>\n",
       "      <th>YEAR</th>\n",
       "      <th>MONTH_NUM</th>\n",
       "      <th>MONTH_MON</th>\n",
       "      <th>ENTRY_DATE</th>\n",
       "      <th>ENTITY_NAME</th>\n",
       "      <th>ENTITY_TYPE</th>\n",
       "      <th>TYPE_MODEL</th>\n",
       "      <th>DIST_FLOWN_KM_1</th>\n",
       "      <th>DIST_DIRECT_KM</th>\n",
       "      <th>DIST_ACHIEVED_KM_1</th>\n",
       "      <th>PLANNED_KM</th>\n",
       "      <th>ACTUAL_KM</th>\n",
       "      <th>EFFICIENCY</th>\n",
       "    </tr>\n",
       "  </thead>\n",
       "  <tbody>\n",
       "    <tr>\n",
       "      <th>0</th>\n",
       "      <td>2024</td>\n",
       "      <td>1</td>\n",
       "      <td>JAN</td>\n",
       "      <td>2024-01-01</td>\n",
       "      <td>Albania</td>\n",
       "      <td>State (FIR)</td>\n",
       "      <td>CPF</td>\n",
       "      <td>67887</td>\n",
       "      <td>67582.94</td>\n",
       "      <td>66205.16</td>\n",
       "      <td>67.887</td>\n",
       "      <td>66.20516</td>\n",
       "      <td>1.68184</td>\n",
       "    </tr>\n",
       "    <tr>\n",
       "      <th>1</th>\n",
       "      <td>2024</td>\n",
       "      <td>1</td>\n",
       "      <td>JAN</td>\n",
       "      <td>2024-01-01</td>\n",
       "      <td>Albania</td>\n",
       "      <td>State (FIR)</td>\n",
       "      <td>FTFM</td>\n",
       "      <td>70664</td>\n",
       "      <td>70233.76</td>\n",
       "      <td>67388.79</td>\n",
       "      <td>70.664</td>\n",
       "      <td>67.38879</td>\n",
       "      <td>3.27521</td>\n",
       "    </tr>\n",
       "    <tr>\n",
       "      <th>2</th>\n",
       "      <td>2024</td>\n",
       "      <td>1</td>\n",
       "      <td>JAN</td>\n",
       "      <td>2024-01-01</td>\n",
       "      <td>Albania</td>\n",
       "      <td>State (FIR)</td>\n",
       "      <td>SCR</td>\n",
       "      <td>68405</td>\n",
       "      <td>68024.77</td>\n",
       "      <td>65306.40</td>\n",
       "      <td>68.405</td>\n",
       "      <td>65.30640</td>\n",
       "      <td>3.09860</td>\n",
       "    </tr>\n",
       "    <tr>\n",
       "      <th>3</th>\n",
       "      <td>2024</td>\n",
       "      <td>1</td>\n",
       "      <td>JAN</td>\n",
       "      <td>2024-01-01</td>\n",
       "      <td>Armenia</td>\n",
       "      <td>State (FIR)</td>\n",
       "      <td>CPF</td>\n",
       "      <td>16858</td>\n",
       "      <td>16617.05</td>\n",
       "      <td>15970.69</td>\n",
       "      <td>16.858</td>\n",
       "      <td>15.97069</td>\n",
       "      <td>0.88731</td>\n",
       "    </tr>\n",
       "    <tr>\n",
       "      <th>4</th>\n",
       "      <td>2024</td>\n",
       "      <td>1</td>\n",
       "      <td>JAN</td>\n",
       "      <td>2024-01-01</td>\n",
       "      <td>Armenia</td>\n",
       "      <td>State (FIR)</td>\n",
       "      <td>FTFM</td>\n",
       "      <td>17603</td>\n",
       "      <td>17321.40</td>\n",
       "      <td>16407.37</td>\n",
       "      <td>17.603</td>\n",
       "      <td>16.40737</td>\n",
       "      <td>1.19563</td>\n",
       "    </tr>\n",
       "    <tr>\n",
       "      <th>...</th>\n",
       "      <td>...</td>\n",
       "      <td>...</td>\n",
       "      <td>...</td>\n",
       "      <td>...</td>\n",
       "      <td>...</td>\n",
       "      <td>...</td>\n",
       "      <td>...</td>\n",
       "      <td>...</td>\n",
       "      <td>...</td>\n",
       "      <td>...</td>\n",
       "      <td>...</td>\n",
       "      <td>...</td>\n",
       "      <td>...</td>\n",
       "    </tr>\n",
       "    <tr>\n",
       "      <th>29479</th>\n",
       "      <td>2024</td>\n",
       "      <td>6</td>\n",
       "      <td>JUN</td>\n",
       "      <td>2024-06-30</td>\n",
       "      <td>UK (Continental)</td>\n",
       "      <td>State (FIR)</td>\n",
       "      <td>SCR</td>\n",
       "      <td>1973831</td>\n",
       "      <td>1927187.08</td>\n",
       "      <td>1873941.35</td>\n",
       "      <td>1973.831</td>\n",
       "      <td>1873.94135</td>\n",
       "      <td>99.88965</td>\n",
       "    </tr>\n",
       "    <tr>\n",
       "      <th>29480</th>\n",
       "      <td>2024</td>\n",
       "      <td>6</td>\n",
       "      <td>JUN</td>\n",
       "      <td>2024-06-30</td>\n",
       "      <td>UK (Continental)</td>\n",
       "      <td>State (FIR)</td>\n",
       "      <td>FTFM</td>\n",
       "      <td>2075350</td>\n",
       "      <td>2019587.21</td>\n",
       "      <td>1962220.29</td>\n",
       "      <td>2075.350</td>\n",
       "      <td>1962.22029</td>\n",
       "      <td>113.12971</td>\n",
       "    </tr>\n",
       "    <tr>\n",
       "      <th>29481</th>\n",
       "      <td>2024</td>\n",
       "      <td>6</td>\n",
       "      <td>JUN</td>\n",
       "      <td>2024-06-30</td>\n",
       "      <td>UK-Ireland FAB</td>\n",
       "      <td>FAB (FIR)</td>\n",
       "      <td>SCR</td>\n",
       "      <td>2257776</td>\n",
       "      <td>2205422.33</td>\n",
       "      <td>2152166.07</td>\n",
       "      <td>2257.776</td>\n",
       "      <td>2152.16607</td>\n",
       "      <td>105.60993</td>\n",
       "    </tr>\n",
       "    <tr>\n",
       "      <th>29482</th>\n",
       "      <td>2024</td>\n",
       "      <td>6</td>\n",
       "      <td>JUN</td>\n",
       "      <td>2024-06-30</td>\n",
       "      <td>UK-Ireland FAB</td>\n",
       "      <td>FAB (FIR)</td>\n",
       "      <td>CPF</td>\n",
       "      <td>2561937</td>\n",
       "      <td>2525443.23</td>\n",
       "      <td>2477563.55</td>\n",
       "      <td>2561.937</td>\n",
       "      <td>2477.56355</td>\n",
       "      <td>84.37345</td>\n",
       "    </tr>\n",
       "    <tr>\n",
       "      <th>29483</th>\n",
       "      <td>2024</td>\n",
       "      <td>6</td>\n",
       "      <td>JUN</td>\n",
       "      <td>2024-06-30</td>\n",
       "      <td>UK-Ireland FAB</td>\n",
       "      <td>FAB (FIR)</td>\n",
       "      <td>FTFM</td>\n",
       "      <td>2426792</td>\n",
       "      <td>2363942.20</td>\n",
       "      <td>2306473.41</td>\n",
       "      <td>2426.792</td>\n",
       "      <td>2306.47341</td>\n",
       "      <td>120.31859</td>\n",
       "    </tr>\n",
       "  </tbody>\n",
       "</table>\n",
       "<p>27846 rows × 13 columns</p>\n",
       "</div>"
      ],
      "text/plain": [
       "       YEAR  MONTH_NUM MONTH_MON  ENTRY_DATE       ENTITY_NAME  ENTITY_TYPE  \\\n",
       "0      2024          1       JAN  2024-01-01           Albania  State (FIR)   \n",
       "1      2024          1       JAN  2024-01-01           Albania  State (FIR)   \n",
       "2      2024          1       JAN  2024-01-01           Albania  State (FIR)   \n",
       "3      2024          1       JAN  2024-01-01           Armenia  State (FIR)   \n",
       "4      2024          1       JAN  2024-01-01           Armenia  State (FIR)   \n",
       "...     ...        ...       ...         ...               ...          ...   \n",
       "29479  2024          6       JUN  2024-06-30  UK (Continental)  State (FIR)   \n",
       "29480  2024          6       JUN  2024-06-30  UK (Continental)  State (FIR)   \n",
       "29481  2024          6       JUN  2024-06-30    UK-Ireland FAB    FAB (FIR)   \n",
       "29482  2024          6       JUN  2024-06-30    UK-Ireland FAB    FAB (FIR)   \n",
       "29483  2024          6       JUN  2024-06-30    UK-Ireland FAB    FAB (FIR)   \n",
       "\n",
       "      TYPE_MODEL  DIST_FLOWN_KM_1  DIST_DIRECT_KM  DIST_ACHIEVED_KM_1  \\\n",
       "0            CPF            67887        67582.94            66205.16   \n",
       "1           FTFM            70664        70233.76            67388.79   \n",
       "2            SCR            68405        68024.77            65306.40   \n",
       "3            CPF            16858        16617.05            15970.69   \n",
       "4           FTFM            17603        17321.40            16407.37   \n",
       "...          ...              ...             ...                 ...   \n",
       "29479        SCR          1973831      1927187.08          1873941.35   \n",
       "29480       FTFM          2075350      2019587.21          1962220.29   \n",
       "29481        SCR          2257776      2205422.33          2152166.07   \n",
       "29482        CPF          2561937      2525443.23          2477563.55   \n",
       "29483       FTFM          2426792      2363942.20          2306473.41   \n",
       "\n",
       "       PLANNED_KM   ACTUAL_KM  EFFICIENCY  \n",
       "0          67.887    66.20516     1.68184  \n",
       "1          70.664    67.38879     3.27521  \n",
       "2          68.405    65.30640     3.09860  \n",
       "3          16.858    15.97069     0.88731  \n",
       "4          17.603    16.40737     1.19563  \n",
       "...           ...         ...         ...  \n",
       "29479    1973.831  1873.94135    99.88965  \n",
       "29480    2075.350  1962.22029   113.12971  \n",
       "29481    2257.776  2152.16607   105.60993  \n",
       "29482    2561.937  2477.56355    84.37345  \n",
       "29483    2426.792  2306.47341   120.31859  \n",
       "\n",
       "[27846 rows x 13 columns]"
      ]
     },
     "execution_count": 636,
     "metadata": {},
     "output_type": "execute_result"
    }
   ],
   "source": [
    "df_2024"
   ]
  },
  {
   "cell_type": "code",
   "execution_count": 637,
   "metadata": {},
   "outputs": [],
   "source": [
    "df_whole = df_efficacy = pd.concat([df_2024, df_2023,df_2022,df_2021,df_2020], ignore_index=True)"
   ]
  },
  {
   "cell_type": "code",
   "execution_count": 638,
   "metadata": {},
   "outputs": [
    {
     "data": {
      "text/html": [
       "<div>\n",
       "<style scoped>\n",
       "    .dataframe tbody tr th:only-of-type {\n",
       "        vertical-align: middle;\n",
       "    }\n",
       "\n",
       "    .dataframe tbody tr th {\n",
       "        vertical-align: top;\n",
       "    }\n",
       "\n",
       "    .dataframe thead th {\n",
       "        text-align: right;\n",
       "    }\n",
       "</style>\n",
       "<table border=\"1\" class=\"dataframe\">\n",
       "  <thead>\n",
       "    <tr style=\"text-align: right;\">\n",
       "      <th></th>\n",
       "      <th>TYPE_MODEL</th>\n",
       "      <th>ACTUAL_KM</th>\n",
       "    </tr>\n",
       "  </thead>\n",
       "  <tbody>\n",
       "    <tr>\n",
       "      <th>0</th>\n",
       "      <td>CPF</td>\n",
       "      <td>6.991953e+07</td>\n",
       "    </tr>\n",
       "    <tr>\n",
       "      <th>1</th>\n",
       "      <td>FTFM</td>\n",
       "      <td>6.900668e+07</td>\n",
       "    </tr>\n",
       "    <tr>\n",
       "      <th>2</th>\n",
       "      <td>SCR</td>\n",
       "      <td>6.707014e+07</td>\n",
       "    </tr>\n",
       "  </tbody>\n",
       "</table>\n",
       "</div>"
      ],
      "text/plain": [
       "  TYPE_MODEL     ACTUAL_KM\n",
       "0        CPF  6.991953e+07\n",
       "1       FTFM  6.900668e+07\n",
       "2        SCR  6.707014e+07"
      ]
     },
     "execution_count": 638,
     "metadata": {},
     "output_type": "execute_result"
    }
   ],
   "source": [
    "km_all = df_whole[['TYPE_MODEL','ACTUAL_KM']].groupby('TYPE_MODEL').sum().reset_index()\n",
    "km_all"
   ]
  },
  {
   "cell_type": "code",
   "execution_count": 639,
   "metadata": {},
   "outputs": [
    {
     "data": {
      "text/plain": [
       "71305928.55466665"
      ]
     },
     "execution_count": 639,
     "metadata": {},
     "output_type": "execute_result"
    }
   ],
   "source": [
    "normal = df_whole['PLANNED_KM'].sum()\n",
    "normal = normal/3 #Have three model\n",
    "normal"
   ]
  },
  {
   "cell_type": "code",
   "execution_count": 640,
   "metadata": {},
   "outputs": [],
   "source": [
    "km_all.loc[3] = ['Normal', normal]"
   ]
  },
  {
   "cell_type": "code",
   "execution_count": 641,
   "metadata": {},
   "outputs": [
    {
     "data": {
      "text/html": [
       "<div>\n",
       "<style scoped>\n",
       "    .dataframe tbody tr th:only-of-type {\n",
       "        vertical-align: middle;\n",
       "    }\n",
       "\n",
       "    .dataframe tbody tr th {\n",
       "        vertical-align: top;\n",
       "    }\n",
       "\n",
       "    .dataframe thead th {\n",
       "        text-align: right;\n",
       "    }\n",
       "</style>\n",
       "<table border=\"1\" class=\"dataframe\">\n",
       "  <thead>\n",
       "    <tr style=\"text-align: right;\">\n",
       "      <th></th>\n",
       "      <th>TYPE_MODEL</th>\n",
       "      <th>ACTUAL_KM</th>\n",
       "    </tr>\n",
       "  </thead>\n",
       "  <tbody>\n",
       "    <tr>\n",
       "      <th>0</th>\n",
       "      <td>CPF</td>\n",
       "      <td>69919.527436</td>\n",
       "    </tr>\n",
       "    <tr>\n",
       "      <th>1</th>\n",
       "      <td>FTFM</td>\n",
       "      <td>69006.677316</td>\n",
       "    </tr>\n",
       "    <tr>\n",
       "      <th>2</th>\n",
       "      <td>SCR</td>\n",
       "      <td>67070.135234</td>\n",
       "    </tr>\n",
       "    <tr>\n",
       "      <th>3</th>\n",
       "      <td>Normal</td>\n",
       "      <td>71305.928555</td>\n",
       "    </tr>\n",
       "  </tbody>\n",
       "</table>\n",
       "</div>"
      ],
      "text/plain": [
       "  TYPE_MODEL     ACTUAL_KM\n",
       "0        CPF  69919.527436\n",
       "1       FTFM  69006.677316\n",
       "2        SCR  67070.135234\n",
       "3     Normal  71305.928555"
      ]
     },
     "execution_count": 641,
     "metadata": {},
     "output_type": "execute_result"
    }
   ],
   "source": [
    "km_all_convert = km_all.copy()\n",
    "km_all_convert[\"ACTUAL_KM\"] = (km_all_convert[\"ACTUAL_KM\"]/1000)\n",
    "km_all_convert"
   ]
  },
  {
   "cell_type": "markdown",
   "metadata": {},
   "source": [
    "---"
   ]
  },
  {
   "cell_type": "code",
   "execution_count": 644,
   "metadata": {},
   "outputs": [
    {
     "name": "stderr",
     "output_type": "stream",
     "text": [
      "No artists with labels found to put in legend.  Note that artists whose label start with an underscore are ignored when legend() is called with no argument.\n"
     ]
    },
    {
     "data": {
      "image/png": "[encoded data removed]",
      "text/plain": [
       "<Figure size 1000x800 with 1 Axes>"
      ]
     },
     "metadata": {},
     "output_type": "display_data"
    }
   ],
   "source": [
    "plt.figure(figsize=(10, 8))\n",
    "barplot = sns.barplot(x='TYPE_MODEL', y='ACTUAL_KM', data=km_all_convert,palette=\"viridis\")\n",
    "plt.title('Total Flight Distance 2019 - 2024 using Different Methods')\n",
    "\n",
    "for p in barplot.patches:\n",
    "    barplot.annotate(format(p.get_height(), '.0f'),\n",
    "                     (p.get_x() + p.get_width() / 2., p.get_height()),\n",
    "                     ha = 'center', va = 'center',\n",
    "                     xytext = (0, 10), \n",
    "                     textcoords = 'offset points')\n",
    "\n",
    "plt.xlabel('Methods')\n",
    "plt.ylabel('Sum (thousands KM)')\n",
    "plt.legend(title='in thousands km',loc='lower left');"
   ]
  }
 ],
 "metadata": {
  "kernelspec": {
   "display_name": "Python 3",
   "language": "python",
   "name": "python3"
  },
  "language_info": {
   "codemirror_mode": {
    "name": "ipython",
    "version": 3
   },
   "file_extension": ".py",
   "mimetype": "text/x-python",
   "name": "python",
   "nbconvert_exporter": "python",
   "pygments_lexer": "ipython3",
   "version": "3.10.7"
  }
 },
 "nbformat": 4,
 "nbformat_minor": 2
}
